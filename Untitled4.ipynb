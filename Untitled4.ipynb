{
  "nbformat": 4,
  "nbformat_minor": 0,
  "metadata": {
    "colab": {
      "name": "Untitled4.ipynb",
      "provenance": [],
      "authorship_tag": "ABX9TyMkod7O+3y3ryxsUExSFd9b",
      "include_colab_link": true
    },
    "kernelspec": {
      "name": "python3",
      "display_name": "Python 3"
    },
    "language_info": {
      "name": "python"
    }
  },
  "cells": [
    {
      "cell_type": "markdown",
      "metadata": {
        "id": "view-in-github",
        "colab_type": "text"
      },
      "source": [
        "<a href=\"https://colab.research.google.com/github/jmisrikhanov/Assignment-008-2-Covid-19-Risk-/blob/main/Untitled4.ipynb\" target=\"_parent\"><img src=\"https://colab.research.google.com/assets/colab-badge.svg\" alt=\"Open In Colab\"/></a>"
      ]
    },
    {
      "cell_type": "code",
      "metadata": {
        "colab": {
          "base_uri": "https://localhost:8080/"
        },
        "id": "PTFWNnL95MLz",
        "outputId": "27a1e584-ddb0-44b0-dff9-cbfd34ee6f9c"
      },
      "source": [
        "age =  input(\"Are you a cigarette addict older than 75 years old?:\").lower().strip() # can be assigned only True/False\n",
        "chronic = input(\"Do you have a severe chronic disease?:\").lower().strip()  # can be assigned only True/False\n",
        "immune =  input(\"Is your immune system too weak?:\").lower().strip()  # can be assigned only True/False\n",
        "risk = age or chronic or immune \n",
        "if age == \"yes\" or chronic == \"yes\" or immune == \"yes\":\n",
        "  print(True)\n",
        "else:\n",
        "  print(False)"
      ],
      "execution_count": 1,
      "outputs": [
        {
          "output_type": "stream",
          "text": [
            "Are you a cigarette addict older than 75 years old?:yes\n",
            "Do you have a severe chronic disease?:NO\n",
            "Is your immune system too weak?:yes\n",
            "True\n"
          ],
          "name": "stdout"
        }
      ]
    }
  ]
}